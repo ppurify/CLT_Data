{
 "cells": [
  {
   "cell_type": "code",
   "execution_count": 1,
   "metadata": {},
   "outputs": [],
   "source": [
    "import os\n",
    "import shutil"
   ]
  },
  {
   "cell_type": "code",
   "execution_count": 25,
   "metadata": {},
   "outputs": [],
   "source": [
    "# Ouptdata folder\n",
    "folder = 'C:/Users/USER/workspace/CLT_Data/Ungrouped_Data'\n",
    "\n",
    "# Read all folder\n",
    "method_folders = os.listdir(folder)\n",
    "\n",
    "for method_folder in method_folders:\n",
    "    \n",
    "    method_folder_path = os.path.join(folder, method_folder)\n",
    "    \n",
    "    sub_folder_list = os.listdir(method_folder_path)\n",
    "    \n",
    "    for sub_folder in sub_folder_list:\n",
    "        \n",
    "        initial_folder_path = os.path.join(method_folder_path, sub_folder)\n",
    "              \n",
    "        initial_sub_dir_list = os.listdir(initial_folder_path)\n",
    "      \n",
    "        if len(initial_sub_dir_list) == 1:\n",
    "\n",
    "            new_folder_path = os.path.join(initial_folder_path, initial_sub_dir_list[0])\n",
    "            \n",
    "            if method_folder == 'Heuristic_1':\n",
    "                \n",
    "                all_files_list = os.listdir(new_folder_path)\n",
    "                \n",
    "                # move to all files in new_folder_path to initial_folder_path\n",
    "                for file in all_files_list:\n",
    "                    file_path = os.path.join(new_folder_path, file)\n",
    "                    shutil.move(file_path, initial_folder_path)\n",
    "                    # delete new folder\n",
    "                    os.rmdir(new_folder_path)\n",
    "            "
   ]
  },
  {
   "cell_type": "code",
   "execution_count": null,
   "metadata": {},
   "outputs": [],
   "source": [
    "# Ouptdata folder\n",
    "folder = 'C:/Users/USER/workspace/CLT_Data/Ungrouped'\n",
    "\n",
    "input_output_folder = os.listdir(folder)\n",
    "\n",
    "for "
   ]
  },
  {
   "cell_type": "code",
   "execution_count": 17,
   "metadata": {},
   "outputs": [
    {
     "name": "stdout",
     "output_type": "stream",
     "text": [
      "['Output_Data_10(stack_6_tier_5)', 'Output_Data_15(stack_6_tier_5)', 'Output_Data_20(stack_6_tier_5)', 'Output_Data_23(stack_6_tier_5)', 'Output_Data_25(stack_6_tier_5)', 'Output_Data_27(stack_6_tier_5)', 'Output_Data_5(stack_6_tier_5)', 'Output_Data_7(stack_6_tier_5)']\n"
     ]
    }
   ],
   "source": [
    "# Ouptdata folder\n",
    "folder = 'C:/Users/USER/workspace/CLT_Data/Ungrouped'\n",
    "\n",
    "# Read all folder\n",
    "all_folders = os.listdir(folder)\n",
    "\n",
    "# Select only container \"Output\"\n",
    "Output_folder_list = [x for x in all_folders if 'Output' in x]\n",
    "print(Output_folder_list)"
   ]
  },
  {
   "cell_type": "code",
   "execution_count": 21,
   "metadata": {},
   "outputs": [
    {
     "name": "stdout",
     "output_type": "stream",
     "text": [
      "_(stack_6_tier_5)\n",
      "_(stack_6_tier_5)\n",
      "_(stack_6_tier_5)\n",
      "_(stack_6_tier_5)\n",
      "_(stack_6_tier_5)\n",
      "_(stack_6_tier_5)\n",
      "_(stack_6_tier_5)\n",
      "_(stack_6_tier_5)\n"
     ]
    }
   ],
   "source": [
    "for _folder_name in Output_folder_list:\n",
    "    new_folder_name = '_(' + _folder_name.split('(')[1]\n",
    "    print(new_folder_name)"
   ]
  },
  {
   "cell_type": "code",
   "execution_count": 22,
   "metadata": {},
   "outputs": [],
   "source": [
    "save_folder = f'{folder}/MIP'"
   ]
  },
  {
   "cell_type": "code",
   "execution_count": 33,
   "metadata": {},
   "outputs": [],
   "source": [
    "# read all files in the folder\n",
    "for output_folder_name in Output_folder_list:\n",
    "    output_folder_path = os.path.join(folder, output_folder_name, 'MIP')\n",
    "\n",
    "    initial_folder_list = os.listdir(output_folder_path)\n",
    "\n",
    "    for initial_folder_name in initial_folder_list:\n",
    "        \n",
    "        initial_folder_path = os.path.join(output_folder_path, initial_folder_name)\n",
    "        # print(initial_folder_path)  \n",
    "        new_initial_folder_name = f'{initial_folder_name}_{output_folder_name}'\n",
    "        \n",
    "        # copy initial_folder_path to save_folder, rename folder name to new_initial_folder_name\n",
    "        shutil.copytree(initial_folder_path, os.path.join(save_folder, new_initial_folder_name))\n",
    "        \n",
    "        \n",
    "        # os.rename(initial_folder_path, os.path.join(save_folder, new_initial_folder_name))\n",
    "        "
   ]
  },
  {
   "cell_type": "code",
   "execution_count": null,
   "metadata": {},
   "outputs": [],
   "source": [
    "save_folder_path ='Ungrouped/MIP'\n"
   ]
  },
  {
   "cell_type": "code",
   "execution_count": 9,
   "metadata": {},
   "outputs": [],
   "source": [
    "# Ouptdata folder\n",
    "folder = 'C:/Users/USER/Downloads/Stacking_container-main/UnGrouped'\n",
    "\n",
    "# Read all folder\n",
    "all_folders = os.listdir(folder)\n",
    "\n",
    "# # Select only container \"Output\"\n",
    "# Output_folder_list = [x for x in all_folders if 'Output' in x]\n",
    "# print(Output_folder_list)"
   ]
  },
  {
   "cell_type": "code",
   "execution_count": 10,
   "metadata": {},
   "outputs": [
    {
     "data": {
      "text/plain": [
       "['Output_Data_10(stack_6_tier_5)',\n",
       " 'Output_Data_15(stack_6_tier_5)',\n",
       " 'Output_Data_20(Stack_6_tier_5)',\n",
       " 'Output_Data_23(stack_6_tier_5)',\n",
       " 'Output_Data_25(stack_6_tier_5)',\n",
       " 'Output_Data_27(stack_6_tier_5)',\n",
       " 'Output_Data_5(stack_6_tier_5)',\n",
       " 'Output_Data_7(stack_6_tier_5)']"
      ]
     },
     "execution_count": 10,
     "metadata": {},
     "output_type": "execute_result"
    }
   ],
   "source": [
    "all_folders"
   ]
  },
  {
   "cell_type": "code",
   "execution_count": 18,
   "metadata": {},
   "outputs": [
    {
     "name": "stdout",
     "output_type": "stream",
     "text": [
      "Output_Data_10(stack_6_tier_5)\n",
      "Output_Data_15(stack_6_tier_5)\n",
      "Output_Data_20(Stack_6_tier_5)\n",
      "Output_Data_23(stack_6_tier_5)\n",
      "Output_Data_25(stack_6_tier_5)\n",
      "Output_Data_27(stack_6_tier_5)\n",
      "Output_Data_5(stack_6_tier_5)\n",
      "Output_Data_7(stack_6_tier_5)\n"
     ]
    }
   ],
   "source": [
    "save_folder = f'C:/Users/USER/workspace/CLT_Data/Ungrouped/Heuristic_1'\n",
    "for folder_name in all_folders:\n",
    "    print(folder_name)\n",
    "    initial_folders_path = os.path.join(folder, folder_name, 'Heuristic_1')\n",
    "    \n",
    "    for initial_folder_name in os.listdir(initial_folders_path):\n",
    "        new_initial_folder_name = f'{initial_folder_name}_{folder_name}'\n",
    "        \n",
    "        # get the path of the initial folder\n",
    "        initial_folder_path = os.path.join(initial_folders_path, initial_folder_name)\n",
    "        \n",
    "        # copy initial_folder_path to save_folder, rename folder name to new_initial_folder_name\n",
    "        shutil.copytree(initial_folder_path, os.path.join(save_folder, new_initial_folder_name))\n",
    "    "
   ]
  }
 ],
 "metadata": {
  "kernelspec": {
   "display_name": "purify",
   "language": "python",
   "name": "python3"
  },
  "language_info": {
   "codemirror_mode": {
    "name": "ipython",
    "version": 3
   },
   "file_extension": ".py",
   "mimetype": "text/x-python",
   "name": "python",
   "nbconvert_exporter": "python",
   "pygments_lexer": "ipython3",
   "version": "3.9.12"
  }
 },
 "nbformat": 4,
 "nbformat_minor": 2
}
