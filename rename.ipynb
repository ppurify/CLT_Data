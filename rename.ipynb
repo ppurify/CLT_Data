{
 "cells": [
  {
   "cell_type": "code",
   "execution_count": 24,
   "metadata": {},
   "outputs": [],
   "source": [
    "import os\n",
    "import shutil"
   ]
  },
  {
   "cell_type": "code",
   "execution_count": 3,
   "metadata": {},
   "outputs": [
    {
     "name": "stdout",
     "output_type": "stream",
     "text": [
      "['Input_Data_10(stack_6_tier_5)', 'Input_Data_15(stack_6_tier_5)', 'Input_Data_20(stack_6_tier_5)', 'Input_Data_23(stack_6_tier_5)', 'Input_Data_25(stack_6_tier_5)', 'Input_Data_27(stack_6_tier_5)', 'Input_Data_5(stack_6_tier_5)', 'Input_Data_7(stack_6_tier_5)', 'Output_Data_10(stack_6_tier_5)', 'Output_Data_15(stack_6_tier_5)', 'Output_Data_20(stack_6_tier_5)', 'Output_Data_23(stack_6_tier_5)', 'Output_Data_25(stack_6_tier_5)', 'Output_Data_27(stack_6_tier_5)', 'Output_Data_5(stack_6_tier_5)', 'Output_Data_7(stack_6_tier_5)', 'prev_data']\n"
     ]
    }
   ],
   "source": [
    "Folder_path = 'Ungrouped'\n",
    "\n",
    "# Find input data folder\n",
    "sub_folders = os.listdir(Folder_path)\n",
    "\n",
    "print(sub_folders)"
   ]
  },
  {
   "cell_type": "code",
   "execution_count": 29,
   "metadata": {},
   "outputs": [],
   "source": [
    "save_path = 'C:\\\\Users\\\\USER\\\\workspace\\\\ERC\\\\Data\\\\Input'\n",
    "\n",
    "for folder in sub_folders:\n",
    "    if(folder.startswith('Input')):\n",
    "        \n",
    "        container_num = folder.split('_')[2].split('(')[0]\n",
    "        \n",
    "        input_data_folder_path = os.path.join(Folder_path, folder, 'Initial_0')\n",
    "        \n",
    "        sub_folder = os.listdir(input_data_folder_path)\n",
    "        \n",
    "        for new_folder in sub_folder:\n",
    "            new_folder_path = os.path.join(input_data_folder_path, new_folder)\n",
    "\n",
    "            # find container file in new_folder_path\n",
    "            container_file = [f for f in os.listdir(new_folder_path) if 'Container' in f]\n",
    "            \n",
    "            for file_name in container_file:\n",
    "                new_file_name = 'Container_' + container_num + '_' + file_name.split('_')[1]\n",
    "\n",
    "                # save the file with new name in save_path\n",
    "                save_file_path = os.path.join(save_path, new_file_name)\n",
    "                \n",
    "                # copy the file to save_path\n",
    "                shutil.copyfile(os.path.join(new_folder_path, file_name), save_file_path)\n",
    "                \n",
    "                \n"
   ]
  },
  {
   "cell_type": "code",
   "execution_count": null,
   "metadata": {},
   "outputs": [],
   "source": []
  },
  {
   "cell_type": "code",
   "execution_count": null,
   "metadata": {},
   "outputs": [],
   "source": []
  }
 ],
 "metadata": {
  "kernelspec": {
   "display_name": "purify",
   "language": "python",
   "name": "python3"
  },
  "language_info": {
   "codemirror_mode": {
    "name": "ipython",
    "version": 3
   },
   "file_extension": ".py",
   "mimetype": "text/x-python",
   "name": "python",
   "nbconvert_exporter": "python",
   "pygments_lexer": "ipython3",
   "version": "3.10.11"
  }
 },
 "nbformat": 4,
 "nbformat_minor": 2
}
